{
 "cells": [
  {
   "cell_type": "markdown",
   "metadata": {},
   "source": [
    "The Tribonacci sequence a(n) is defined as follows:\n",
    "\n",
    "a(n) = a(n-1) + a(n-2) + a(n-3) with a(0) = a(1) = 0, a(2) = 1. \n",
    "\n",
    "Given a value N, task is to print first N Tribonacci Numbers.\n",
    "\n",
    "Input : 5     \n",
    "Output : 0, 0, 1, 1, 2     \n",
    "\n",
    "Input : 10      \n",
    "Output : 0, 0, 1, 1, 2, 4, 7, 13, 24, 44     "
   ]
  },
  {
   "cell_type": "code",
   "execution_count": 2,
   "metadata": {},
   "outputs": [
    {
     "name": "stdout",
     "output_type": "stream",
     "text": [
      "0  0  1  1  2  4  7  13  24  44  "
     ]
    }
   ],
   "source": [
    "def printTribonacci(n) : \n",
    "  \n",
    "    dp = [0] * n \n",
    "    dp[0] = dp[1] = 0; \n",
    "    dp[2] = 1; \n",
    "  \n",
    "    for i in range(3,n) : \n",
    "        dp[i] = dp[i - 1] + dp[i - 2] + dp[i - 3]; \n",
    "  \n",
    "    for i in range(0,n) : \n",
    "        print(dp[i] , \" \", end=\"\") \n",
    "          \n",
    "n = 10\n",
    "printTribonacci(n)"
   ]
  }
 ],
 "metadata": {
  "kernelspec": {
   "display_name": "Python 3",
   "language": "python",
   "name": "python3"
  },
  "language_info": {
   "codemirror_mode": {
    "name": "ipython",
    "version": 3
   },
   "file_extension": ".py",
   "mimetype": "text/x-python",
   "name": "python",
   "nbconvert_exporter": "python",
   "pygments_lexer": "ipython3",
   "version": "3.7.2"
  }
 },
 "nbformat": 4,
 "nbformat_minor": 4
}
