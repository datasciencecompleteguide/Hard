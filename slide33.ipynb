{
 "cells": [
  {
   "cell_type": "markdown",
   "metadata": {},
   "source": [
    "Question: Your friend is typing his name into a keyboard.  Sometimes, when typing a character c, the key might get long pressed, and the character will be typed 1 or more times.\n",
    "You examine the typed characters of the keyboard.  Return True if it is possible that it was your friends name, with some characters (possibly none) being long pressed.\n",
    "\n",
    "Input: name = \"alex\",        typed = \"aaleex\"      \n",
    "Output: true      \n",
    "Explanation: 'a' and 'e' in 'alex' were long pressed."
   ]
  },
  {
   "cell_type": "code",
   "execution_count": 3,
   "metadata": {},
   "outputs": [
    {
     "data": {
      "text/plain": [
       "True"
      ]
     },
     "execution_count": 3,
     "metadata": {},
     "output_type": "execute_result"
    }
   ],
   "source": [
    "import itertools\n",
    "class Solution(object):\n",
    "    def isLongPressedName(self, name, typed):\n",
    "        g1 = [(k, len(list(grp))) for k, grp in itertools.groupby(name)]\n",
    "        g2 = [(k, len(list(grp))) for k, grp in itertools.groupby(typed)]\n",
    "        if len(g1) != len(g2):\n",
    "            return False\n",
    "\n",
    "        return all(k1 == k2 and v1 <= v2\n",
    "                   for (k1,v1), (k2,v2) in zip(g1, g2))\n",
    "obj = Solution()\n",
    "obj.isLongPressedName(\"alex\",\"aaleex\")"
   ]
  }
 ],
 "metadata": {
  "kernelspec": {
   "display_name": "Python 3",
   "language": "python",
   "name": "python3"
  },
  "language_info": {
   "codemirror_mode": {
    "name": "ipython",
    "version": 3
   },
   "file_extension": ".py",
   "mimetype": "text/x-python",
   "name": "python",
   "nbconvert_exporter": "python",
   "pygments_lexer": "ipython3",
   "version": "3.7.2"
  }
 },
 "nbformat": 4,
 "nbformat_minor": 4
}
