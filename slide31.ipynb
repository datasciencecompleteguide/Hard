{
 "cells": [
  {
   "cell_type": "code",
   "execution_count": 1,
   "metadata": {},
   "outputs": [
    {
     "name": "stdout",
     "output_type": "stream",
     "text": [
      "5\n"
     ]
    }
   ],
   "source": [
    "def getMedian(arr1, arr2, n):  \n",
    "\n",
    "    if n == 0:  \n",
    "        return -1\n",
    "  \n",
    "    elif n == 1:  \n",
    "\n",
    "        return (arr1[0]+arr2[1])/2\n",
    "     \n",
    "    elif n == 2:  \n",
    "        return (max(arr1[0], arr2[0]) + \n",
    "                min(arr1[1], arr2[1])) / 2\n",
    "      \n",
    "    else:     \n",
    "        m1 = median(arr1, n) \n",
    "        m2 = median(arr2, n) \n",
    "\n",
    "        if m1 > m2: \n",
    "              \n",
    "            if n % 2 == 0: \n",
    "                return getMedian(arr1[:int(n / 2) + 1], \n",
    "                        arr2[int(n / 2) - 1:], int(n / 2) + 1) \n",
    "            else: \n",
    "                return getMedian(arr1[:int(n / 2) + 1],  \n",
    "                        arr2[int(n / 2):], int(n / 2) + 1) \n",
    "          \n",
    "        else: \n",
    "            if n % 2 == 0: \n",
    "                return getMedian(arr1[int(n / 2 - 1):], \n",
    "                        arr2[:int(n / 2 + 1)], int(n / 2) + 1) \n",
    "            else: \n",
    "                return getMedian(arr1[int(n / 2):],  \n",
    "                        arr2[0:int(n / 2) + 1], int(n / 2) + 1) \n",
    "\n",
    "def median(arr, n): \n",
    "    if n % 2 == 0: \n",
    "        return (arr[int(n / 2)] +\n",
    "                arr[int(n / 2) - 1]) / 2\n",
    "    else: \n",
    "        return arr[int(n/2)] \n",
    "\n",
    "arr1 = [1, 2, 3, 6] \n",
    "arr2 = [4, 6, 8, 10] \n",
    "n = len(arr1) \n",
    "print(int(getMedian(arr1,arr2,n))) "
   ]
  }
 ],
 "metadata": {
  "kernelspec": {
   "display_name": "Python 3",
   "language": "python",
   "name": "python3"
  },
  "language_info": {
   "codemirror_mode": {
    "name": "ipython",
    "version": 3
   },
   "file_extension": ".py",
   "mimetype": "text/x-python",
   "name": "python",
   "nbconvert_exporter": "python",
   "pygments_lexer": "ipython3",
   "version": "3.7.2"
  }
 },
 "nbformat": 4,
 "nbformat_minor": 4
}
