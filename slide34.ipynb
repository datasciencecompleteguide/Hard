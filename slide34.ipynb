{
 "cells": [
  {
   "cell_type": "markdown",
   "metadata": {},
   "source": [
    "Questions: Given an array of integers and a value, determine if there are any two    integers in the array whose sum is equal to the given value. \n",
    "Return true if the sum exists and return false if it does not.\n",
    "\n",
    "Consider this array and the target sums:    \n",
    "Input: [5,7,1,2,8,4,3]     \n",
    "\n",
    "Target Sum: 10  {7+3 =10 , 8+2 =10}      \n",
    "Target Sum: 19  { No 2 values can sum to 19}      \n",
    "\n",
    "Output:  find_sum_of_two(v, 10) = True      \n",
    "\t find_sum_of_two(v, 19) = False     "
   ]
  },
  {
   "cell_type": "code",
   "execution_count": 1,
   "metadata": {},
   "outputs": [
    {
     "name": "stdout",
     "output_type": "stream",
     "text": [
      "find_sum_of_two(v, 3) = True\n",
      "find_sum_of_two(v, 20) = False\n",
      "find_sum_of_two(v, 1) = False\n",
      "find_sum_of_two(v, 2) = False\n",
      "find_sum_of_two(v, 7) = True\n"
     ]
    }
   ],
   "source": [
    "def find_sum_of_two(A, val):\n",
    "  found_values = set()\n",
    "  for a in A:\n",
    "    if val - a in found_values:\n",
    "      return True\n",
    "\n",
    "    found_values.add(a)\n",
    "    \n",
    "  return False\n",
    "\n",
    "v = [5, 7, 1, 2, 8, 4, 3]\n",
    "test = [3, 20, 1, 2, 7]\n",
    "\n",
    "for i in range(len(test)):\n",
    "  output = find_sum_of_two(v, test[i])\n",
    "  print(\"find_sum_of_two(v, \" + str(test[i]) + \") = \" + str(output))"
   ]
  }
 ],
 "metadata": {
  "kernelspec": {
   "display_name": "Python 3",
   "language": "python",
   "name": "python3"
  },
  "language_info": {
   "codemirror_mode": {
    "name": "ipython",
    "version": 3
   },
   "file_extension": ".py",
   "mimetype": "text/x-python",
   "name": "python",
   "nbconvert_exporter": "python",
   "pygments_lexer": "ipython3",
   "version": "3.7.2"
  }
 },
 "nbformat": 4,
 "nbformat_minor": 4
}
