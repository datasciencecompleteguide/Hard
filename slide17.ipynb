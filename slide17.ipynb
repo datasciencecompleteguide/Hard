{
 "cells": [
  {
   "cell_type": "markdown",
   "metadata": {},
   "source": [
    "Question:  Given k sorted lists of integers of size n each, find the smallest range that includes at least element from each of the k lists. If more than one smallest ranges are found, print any one of them.\n",
    "\n",
    "Input: K = 3                                                                                                       \n",
    "arr1[] : [4, 7, 9, 12, 15]                                                          \n",
    "arr2[] : [0, 8, 10, 14, 20]     \n",
    "arr3[] : [6, 12, 16, 30, 50]     \n",
    "\n",
    "Output:    \n",
    "The smallest range is [6 8]\n",
    "\n",
    "Explanation: Smallest range is formed by number 7 from the first list, 8 from second list and 6 from the third list."
   ]
  },
  {
   "cell_type": "code",
   "execution_count": 1,
   "metadata": {},
   "outputs": [
    {
     "name": "stdout",
     "output_type": "stream",
     "text": [
      "The smallest range is [ 6 8 ]\n"
     ]
    }
   ],
   "source": [
    "N = 5 \n",
    "ptr = [0 for i in range(501)] \n",
    "def findSmallestRange(arr, n, k): \n",
    "  \n",
    "    i, minval, maxval, minrange, minel, maxel, flag, minind = 0, 0, 0, 0, 0, 0, 0, 0\n",
    "   \n",
    "    for i in range(k + 1): \n",
    "        ptr[i] = 0\n",
    "  \n",
    "    minrange = 10**9\n",
    "          \n",
    "    while(1):     \n",
    "          \n",
    "        minind = -1\n",
    "        minval = 10**9\n",
    "        maxval = -10**9\n",
    "        flag = 0\n",
    "  \n",
    "        for i in range(k): \n",
    "\n",
    "            if(ptr[i] == n): \n",
    "                flag = 1    \n",
    "                break\n",
    "  \n",
    "            if(ptr[i] < n and arr[i][ptr[i]] < minval): \n",
    "                minind = i \n",
    "                minval = arr[i][ptr[i]] \n",
    "\n",
    "            if(ptr[i] < n and arr[i][ptr[i]] > maxval): \n",
    "                maxval = arr[i][ptr[i]] \n",
    "    \n",
    "        if(flag): \n",
    "            break\n",
    "  \n",
    "        ptr[minind] += 1 \n",
    "        if((maxval-minval) < minrange): \n",
    "            minel = minval \n",
    "            maxel = maxval \n",
    "            minrange = maxel - minel \n",
    "      \n",
    "    print(\"The smallest range is [\", minel, maxel, \"]\") \n",
    "\n",
    "arr = [ \n",
    "    [4, 7, 9, 12, 15], \n",
    "    [0, 8, 10, 14, 20], \n",
    "    [6, 12, 16, 30, 50] \n",
    "    ] \n",
    "  \n",
    "k = len(arr) \n",
    "findSmallestRange(arr, N, k)"
   ]
  }
 ],
 "metadata": {
  "kernelspec": {
   "display_name": "Python 3",
   "language": "python",
   "name": "python3"
  },
  "language_info": {
   "codemirror_mode": {
    "name": "ipython",
    "version": 3
   },
   "file_extension": ".py",
   "mimetype": "text/x-python",
   "name": "python",
   "nbconvert_exporter": "python",
   "pygments_lexer": "ipython3",
   "version": "3.7.2"
  }
 },
 "nbformat": 4,
 "nbformat_minor": 4
}
