{
  "nbformat": 4,
  "nbformat_minor": 0,
  "metadata": {
    "colab": {
      "name": "DFS.ipynb",
      "provenance": [],
      "authorship_tag": "ABX9TyP4YDPARzAG37IKD8441cUG",
      "include_colab_link": true
    },
    "kernelspec": {
      "name": "python3",
      "display_name": "Python 3"
    }
  },
  "cells": [
    {
      "cell_type": "markdown",
      "metadata": {
        "id": "view-in-github",
        "colab_type": "text"
      },
      "source": [
        "<a href=\"https://colab.research.google.com/github/datasciencecompleteguide/Hard/blob/master/DFS.ipynb\" target=\"_parent\"><img src=\"https://colab.research.google.com/assets/colab-badge.svg\" alt=\"Open In Colab\"/></a>"
      ]
    },
    {
      "cell_type": "code",
      "metadata": {
        "colab": {
          "base_uri": "https://localhost:8080/"
        },
        "id": "EXDIKiY_JMJs",
        "outputId": "48d88670-6cd3-4706-f21a-bd8bac36a9da"
      },
      "source": [
        "graph = {'A': set(['B', 'C']),\r\n",
        "         'B': set(['C', 'D', 'E']),\r\n",
        "         'C': set(['F']),\r\n",
        "         'D': set([]),\r\n",
        "         'E': set(['F']),\r\n",
        "         'F': set([])}\r\n",
        "color = dict()\r\n",
        "traverse_time = dict()\r\n",
        "for i,j in graph.items():\r\n",
        "    color[i] = 'W'\r\n",
        "    traverse_time[i] = [-1, -1]\r\n",
        "output = list()\r\n",
        "def dfs(u):\r\n",
        "  global time\r\n",
        "  color[u]='G'\r\n",
        "  traverse_time[u][0] = time\r\n",
        "  output.append(u)\r\n",
        "  time += 1\r\n",
        "  for v in graph[u]:\r\n",
        "    if color[v] == 'W':\r\n",
        "      dfs(v)\r\n",
        "  color[u] = 'B'\r\n",
        "  traverse_time[u][1] = time\r\n",
        "  time += 1\r\n",
        "dfs('A')\r\n",
        "print(output, traverse_time, color, sep='\\n')"
      ],
      "execution_count": 22,
      "outputs": [
        {
          "output_type": "stream",
          "text": [
            "['A', 'B', 'C', 'F', 'D', 'E']\n",
            "{'A': [40, 51], 'B': [41, 50], 'C': [42, 45], 'D': [46, 47], 'E': [48, 49], 'F': [43, 44]}\n",
            "{'A': 'B', 'B': 'B', 'C': 'B', 'D': 'B', 'E': 'B', 'F': 'B'}\n"
          ],
          "name": "stdout"
        }
      ]
    }
  ]
}