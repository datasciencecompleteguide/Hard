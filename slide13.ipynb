{
 "cells": [
  {
   "cell_type": "markdown",
   "metadata": {},
   "source": [
    "Note:  A palindrome is called super-palindrome if it is a palindrome and also square of a palindrome.\n",
    "\n",
    "Question:  Given two Positive integers L and R, return the number of super-palindromes in the inclusive range of [L,R].\n",
    "\n",
    "Input: L = \"4\", R = \"1000\" \n",
    "\n",
    "Output: 4 \n",
    "\n",
    "Explanation: 4, 9, 121, and 484 are super-palindromes."
   ]
  },
  {
   "cell_type": "code",
   "execution_count": 1,
   "metadata": {},
   "outputs": [
    {
     "name": "stdout",
     "output_type": "stream",
     "text": [
      "4\n"
     ]
    }
   ],
   "source": [
    "def ispalindrome(x): \n",
    "    ans, temp = 0, x \n",
    "    while temp > 0: \n",
    "        ans = 10 * ans + temp % 10\n",
    "        temp = temp // 10\n",
    "    return ans == x \n",
    "\n",
    "def SuperPalindromes(L, R): \n",
    "    L, R = int(L), int(R) \n",
    "    LIMIT = 100000\n",
    "  \n",
    "    ans = 0\n",
    " \n",
    "    for i in range(LIMIT): \n",
    "        s = str(i) \n",
    "        p = s + s[-2::-1] \n",
    "        p_sq = int(p) ** 2\n",
    "        if p_sq > R: \n",
    "            break\n",
    "        if p_sq >= L and ispalindrome(p_sq): \n",
    "            ans = ans + 1\n",
    "\n",
    "    for i in range(LIMIT): \n",
    "        s = str(i) \n",
    "        p = s + s[::-1]\n",
    "        p_sq = int(p) ** 2\n",
    "        if p_sq > R: \n",
    "            break\n",
    "        if p_sq >= L and ispalindrome(p_sq): \n",
    "            ans = ans + 1\n",
    "    return ans \n",
    "  \n",
    "L = \"4\"\n",
    "R = \"1000\"\n",
    "\n",
    "print(SuperPalindromes(L, R)) "
   ]
  }
 ],
 "metadata": {
  "kernelspec": {
   "display_name": "Python 3",
   "language": "python",
   "name": "python3"
  },
  "language_info": {
   "codemirror_mode": {
    "name": "ipython",
    "version": 3
   },
   "file_extension": ".py",
   "mimetype": "text/x-python",
   "name": "python",
   "nbconvert_exporter": "python",
   "pygments_lexer": "ipython3",
   "version": "3.7.2"
  }
 },
 "nbformat": 4,
 "nbformat_minor": 4
}
